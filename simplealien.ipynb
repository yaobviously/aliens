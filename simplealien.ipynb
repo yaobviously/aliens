{
  "nbformat": 4,
  "nbformat_minor": 0,
  "metadata": {
    "colab": {
      "name": "simplealien.ipynb",
      "provenance": [],
      "collapsed_sections": [],
      "authorship_tag": "ABX9TyNV9lbYZQozCJlBL0F4/+sT",
      "include_colab_link": true
    },
    "kernelspec": {
      "name": "python3",
      "display_name": "Python 3"
    },
    "language_info": {
      "name": "python"
    }
  },
  "cells": [
    {
      "cell_type": "markdown",
      "metadata": {
        "id": "view-in-github",
        "colab_type": "text"
      },
      "source": [
        "<a href=\"https://colab.research.google.com/github/yaobviously/aliens/blob/main/simplealien.ipynb\" target=\"_parent\"><img src=\"https://colab.research.google.com/assets/colab-badge.svg\" alt=\"Open In Colab\"/></a>"
      ]
    },
    {
      "cell_type": "code",
      "metadata": {
        "id": "hbKppgw7XgXo"
      },
      "source": [
        "!pip install arviz==0.6.1\n",
        "!pip install pymc3==3.8\n",
        "!pip install Theano==1.0.4\n",
        " \n",
        "import pymc3 as pm\n",
        "import arviz as az\n",
        "import theano as tt"
      ],
      "execution_count": null,
      "outputs": []
    },
    {
      "cell_type": "code",
      "metadata": {
        "id": "kkzyudXNYU6d"
      },
      "source": [
        "import pandas as pd\n",
        "import numpy as np\n",
        "import seaborn as sns\n",
        "from google.colab import files\n",
        "uploaded = files.upload()\n",
        "\n",
        "aliens = pd.read_csv('aliensightsyearcounts.csv')"
      ],
      "execution_count": null,
      "outputs": []
    },
    {
      "cell_type": "code",
      "metadata": {
        "colab": {
          "base_uri": "https://localhost:8080/",
          "height": 312
        },
        "id": "XEu4xQH4Y2F_",
        "outputId": "998a2c99-c036-49fa-faf7-85bfd5c9baa3"
      },
      "source": [
        "import matplotlib.pyplot as plt\n",
        "\n",
        "years = np.array(aliens['year'])\n",
        "counts = np.array(aliens['sightings'])\n",
        "\n",
        "fig, ax = plt.subplots()\n",
        "sns.scatterplot(x = years, y = counts, ax=ax)\n",
        "ax.set_xlabel('Year')\n",
        "ax.set_ylabel('Reported Sightings')\n",
        "plt.title('Reported Sightings Per Year')\n",
        "plt.show()\n",
        "plt.clf()"
      ],
      "execution_count": null,
      "outputs": [
        {
          "output_type": "display_data",
          "data": {
            "image/png": "[encoded data removed]",
            "text/plain": [
              "<Figure size 432x288 with 1 Axes>"
            ]
          },
          "metadata": {
            "tags": [],
            "needs_background": "light"
          }
        },
        {
          "output_type": "display_data",
          "data": {
            "text/plain": [
              "<Figure size 432x288 with 0 Axes>"
            ]
          },
          "metadata": {
            "tags": []
          }
        }
      ]
    },
    {
      "cell_type": "code",
      "metadata": {
        "id": "gZb-sd7UaCmj"
      },
      "source": [
        "with pm.Model() as alienmodel:\n",
        "\n",
        "  switchYear = pm.DiscreteUniform(\"switchYear\", lower = years.min() , upper = years.max(), testval=2003)\n",
        "\n",
        "  early_rate = pm.Exponential(\"early_rate\", lam = 1)\n",
        "  late_rate = pm.Exponential(\"late_rate\", lam=1)\n",
        "\n",
        "  rate = pm.math.switch(switchYear >= years, early_rate, late_rate )\n",
        "\n",
        "  sightings = pm.Poisson(\"sightings\", rate, observed = counts)\n",
        "\n",
        "  # using NUTS sampler for the continuous variables\n",
        "\n",
        "  step1 = pm.NUTS([early_rate, late_rate])\n",
        "  step2 = pm.Metropolis([switchYear])\n",
        "\n",
        " "
      ],
      "execution_count": null,
      "outputs": []
    },
    {
      "cell_type": "code",
      "metadata": {
        "colab": {
          "base_uri": "https://localhost:8080/",
          "height": 228
        },
        "id": "Xxaj4LqslfuB",
        "outputId": "beb8682b-8950-495f-ad77-a1a260558a13"
      },
      "source": [
        "pm.model_to_graphviz(alienmodel)"
      ],
      "execution_count": null,
      "outputs": [
        {
          "output_type": "execute_result",
          "data": {
            "text/plain": [
              "<graphviz.dot.Digraph at 0x7f74987b8dd0>"
            ],
            "image/svg+xml": "<?xml version=\"1.0\" encoding=\"UTF-8\" standalone=\"no\"?>\n<!DOCTYPE svg PUBLIC \"-//W3C//DTD SVG 1.1//EN\"\n \"http://www.w3.org/Graphics/SVG/1.1/DTD/svg11.dtd\">\n<!-- Generated by graphviz version 2.40.1 (20161225.0304)\n -->\n<!-- Title: %3 Pages: 1 -->\n<svg width=\"688pt\" height=\"155pt\"\n viewBox=\"0.00 0.00 687.68 155.00\" xmlns=\"http://www.w3.org/2000/svg\" xmlns:xlink=\"http://www.w3.org/1999/xlink\">\n<g id=\"graph0\" class=\"graph\" transform=\"scale(1 1) rotate(0) translate(4 151)\">\n<title>%3</title>\n<polygon fill=\"#ffffff\" stroke=\"transparent\" points=\"-4,4 -4,-151 683.6805,-151 683.6805,4 -4,4\"/>\n<g id=\"clust1\" class=\"cluster\">\n<title>cluster51</title>\n<path fill=\"none\" stroke=\"#000000\" d=\"M234.8414,-8C234.8414,-8 392.8414,-8 392.8414,-8 398.8414,-8 404.8414,-14 404.8414,-20 404.8414,-20 404.8414,-71 404.8414,-71 404.8414,-77 398.8414,-83 392.8414,-83 392.8414,-83 234.8414,-83 234.8414,-83 228.8414,-83 222.8414,-77 222.8414,-71 222.8414,-71 222.8414,-20 222.8414,-20 222.8414,-14 228.8414,-8 234.8414,-8\"/>\n<text text-anchor=\"middle\" x=\"388.8414\" y=\"-15.8\" font-family=\"Times,serif\" font-size=\"14.00\" fill=\"#000000\">51</text>\n</g>\n<!-- late_rate -->\n<g id=\"node1\" class=\"node\">\n<title>late_rate</title>\n<ellipse fill=\"none\" stroke=\"#000000\" cx=\"96.8414\" cy=\"-129\" rx=\"96.6831\" ry=\"18\"/>\n<text text-anchor=\"middle\" x=\"96.8414\" y=\"-125.3\" font-family=\"Times,serif\" font-size=\"14.00\" fill=\"#000000\">late_rate ~ Exponential</text>\n</g>\n<!-- sightings -->\n<g id=\"node4\" class=\"node\">\n<title>sightings</title>\n<ellipse fill=\"#d3d3d3\" stroke=\"#000000\" cx=\"313.8414\" cy=\"-57\" rx=\"83.3857\" ry=\"18\"/>\n<text text-anchor=\"middle\" x=\"313.8414\" y=\"-53.3\" font-family=\"Times,serif\" font-size=\"14.00\" fill=\"#000000\">sightings ~ Poisson</text>\n</g>\n<!-- late_rate&#45;&gt;sightings -->\n<g id=\"edge1\" class=\"edge\">\n<title>late_rate&#45;&gt;sightings</title>\n<path fill=\"none\" stroke=\"#000000\" d=\"M144.1948,-113.2883C177.8218,-102.1309 223.0835,-87.1132 258.3979,-75.396\"/>\n<polygon fill=\"#000000\" stroke=\"#000000\" points=\"259.6876,-78.6558 268.0766,-72.1846 257.4832,-72.0119 259.6876,-78.6558\"/>\n</g>\n<!-- early_rate -->\n<g id=\"node2\" class=\"node\">\n<title>early_rate</title>\n<ellipse fill=\"none\" stroke=\"#000000\" cx=\"313.8414\" cy=\"-129\" rx=\"102.0819\" ry=\"18\"/>\n<text text-anchor=\"middle\" x=\"313.8414\" y=\"-125.3\" font-family=\"Times,serif\" font-size=\"14.00\" fill=\"#000000\">early_rate ~ Exponential</text>\n</g>\n<!-- early_rate&#45;&gt;sightings -->\n<g id=\"edge2\" class=\"edge\">\n<title>early_rate&#45;&gt;sightings</title>\n<path fill=\"none\" stroke=\"#000000\" d=\"M313.8414,-110.8314C313.8414,-103.131 313.8414,-93.9743 313.8414,-85.4166\"/>\n<polygon fill=\"#000000\" stroke=\"#000000\" points=\"317.3415,-85.4132 313.8414,-75.4133 310.3415,-85.4133 317.3415,-85.4132\"/>\n</g>\n<!-- switchYear -->\n<g id=\"node3\" class=\"node\">\n<title>switchYear</title>\n<ellipse fill=\"none\" stroke=\"#000000\" cx=\"556.8414\" cy=\"-129\" rx=\"122.6784\" ry=\"18\"/>\n<text text-anchor=\"middle\" x=\"556.8414\" y=\"-125.3\" font-family=\"Times,serif\" font-size=\"14.00\" fill=\"#000000\">switchYear ~ DiscreteUniform</text>\n</g>\n<!-- switchYear&#45;&gt;sightings -->\n<g id=\"edge3\" class=\"edge\">\n<title>switchYear&#45;&gt;sightings</title>\n<path fill=\"none\" stroke=\"#000000\" d=\"M502.3075,-112.8418C463.8659,-101.4517 412.418,-86.2079 372.9883,-74.525\"/>\n<polygon fill=\"#000000\" stroke=\"#000000\" points=\"373.8203,-71.1212 363.238,-71.636 371.8316,-77.8328 373.8203,-71.1212\"/>\n</g>\n</g>\n</svg>\n"
          },
          "metadata": {
            "tags": []
          },
          "execution_count": 58
        }
      ]
    },
    {
      "cell_type": "code",
      "metadata": {
        "id": "D9BYzwxHlXtf"
      },
      "source": [
        "trace = pm.sample(15000, tune = 500, step = [step1, step2])"
      ],
      "execution_count": null,
      "outputs": []
    },
    {
      "cell_type": "code",
      "metadata": {
        "id": "ox-RxBLfeRsJ"
      },
      "source": [
        "az.summary(trace)"
      ],
      "execution_count": null,
      "outputs": []
    },
    {
      "cell_type": "code",
      "metadata": {
        "id": "fAru108bfs0i"
      },
      "source": [
        "trace?\n",
        " \n",
        "fig, ax = plt.subplots()\n",
        " \n",
        "sns.scatterplot(x = years, y = counts, ax = ax, alpha = 0.6)\n",
        " \n",
        "plt.vlines(trace['switchYear'].mean(), counts.min(), counts.max(), color = 'r')\n",
        " \n",
        "ax.set_xlabel('Year')\n",
        "ax.set_ylabel('Reported Sightings')"
      ],
      "execution_count": null,
      "outputs": []
    }
  ]
}