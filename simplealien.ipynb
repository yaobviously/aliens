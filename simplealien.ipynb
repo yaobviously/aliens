{
  "nbformat": 4,
  "nbformat_minor": 0,
  "metadata": {
    "colab": {
      "name": "simplealien.ipynb",
      "provenance": [],
      "collapsed_sections": [],
      "authorship_tag": "ABX9TyNFR7yDH1fCmCDgkiJymDde",
      "include_colab_link": true
    },
    "kernelspec": {
      "name": "python3",
      "display_name": "Python 3"
    },
    "language_info": {
      "name": "python"
    }
  },
  "cells": [
    {
      "cell_type": "markdown",
      "metadata": {
        "id": "view-in-github",
        "colab_type": "text"
      },
      "source": [
        "<a href=\"https://colab.research.google.com/github/yaobviously/aliens/blob/main/simplealien.ipynb\" target=\"_parent\"><img src=\"https://colab.research.google.com/assets/colab-badge.svg\" alt=\"Open In Colab\"/></a>"
      ]
    },
    {
      "cell_type": "code",
      "metadata": {
        "id": "hbKppgw7XgXo"
      },
      "source": [
        "!pip install arviz==0.6.1\n",
        "!pip install pymc3==3.8\n",
        "!pip install Theano==1.0.4\n",
        " \n",
        "import pymc3 as pm\n",
        "import arviz as az\n",
        "import theano as tt"
      ],
      "execution_count": null,
      "outputs": []
    },
    {
      "cell_type": "code",
      "metadata": {
        "id": "kkzyudXNYU6d"
      },
      "source": [
        "import pandas as pd\n",
        "import numpy as np\n",
        "import seaborn as sns\n",
        "\n",
        "\n",
        "aliens = pd.read_csv('/content/drive/MyDrive/aliensightsyearcounts.csv')"
      ],
      "execution_count": 6,
      "outputs": []
    },
    {
      "cell_type": "code",
      "metadata": {
        "id": "XEu4xQH4Y2F_"
      },
      "source": [
        "import matplotlib.pyplot as plt\n",
        "\n",
        "years = np.array(aliens['year'])\n",
        "counts = np.array(aliens['sightings'])\n",
        "\n",
        "fig, ax = plt.subplots()\n",
        "sns.scatterplot(x = years, y = counts, ax=ax)\n",
        "ax.set_xlabel('Year')\n",
        "ax.set_ylabel('Reported Sightings')\n",
        "plt.title('Reported Sightings Per Year')\n",
        "plt.show()\n",
        "plt.clf()"
      ],
      "execution_count": null,
      "outputs": []
    },
    {
      "cell_type": "code",
      "metadata": {
        "id": "gZb-sd7UaCmj"
      },
      "source": [
        "with pm.Model() as alienmodel:\n",
        "\n",
        "  switchYear = pm.DiscreteUniform(\"switchYear\", lower = years.min() , upper = years.max(), testval=2003)\n",
        "\n",
        "  early_rate = pm.Exponential(\"early_rate\", lam = 1)\n",
        "  late_rate = pm.Exponential(\"late_rate\", lam=1)\n",
        "\n",
        "  rate = pm.math.switch(switchYear >= years, early_rate, late_rate )\n",
        "\n",
        "  sightings = pm.Poisson(\"sightings\", rate, observed = counts)\n",
        "\n",
        "  # using NUTS sampler for the continuous variables\n",
        "\n",
        "  step1 = pm.NUTS([early_rate, late_rate])\n",
        "  step2 = pm.Metropolis([switchYear])\n",
        "\n",
        " "
      ],
      "execution_count": null,
      "outputs": []
    },
    {
      "cell_type": "code",
      "metadata": {
        "id": "Xxaj4LqslfuB"
      },
      "source": [
        "pm.model_to_graphviz(alienmodel)"
      ],
      "execution_count": null,
      "outputs": []
    },
    {
      "cell_type": "code",
      "metadata": {
        "id": "D9BYzwxHlXtf"
      },
      "source": [
        "trace = pm.sample(15000, tune = 500, step = [step1, step2])"
      ],
      "execution_count": null,
      "outputs": []
    },
    {
      "cell_type": "code",
      "metadata": {
        "id": "ox-RxBLfeRsJ"
      },
      "source": [
        "az.summary(trace)"
      ],
      "execution_count": null,
      "outputs": []
    },
    {
      "cell_type": "code",
      "metadata": {
        "id": "fAru108bfs0i"
      },
      "source": [
        "\n",
        "fig, ax = plt.subplots()\n",
        " \n",
        "sns.scatterplot(x = years, y = counts, ax = ax, alpha = 0.6)\n",
        " \n",
        "plt.vlines(trace['switchYear'].mean(), counts.min(), counts.max(), color = 'r')\n",
        " \n",
        "ax.set_xlabel('Year')\n",
        "ax.set_ylabel('Reported Sightings')"
      ],
      "execution_count": null,
      "outputs": []
    }
  ]
}